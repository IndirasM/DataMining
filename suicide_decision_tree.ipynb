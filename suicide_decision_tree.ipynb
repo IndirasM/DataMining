{
  "nbformat": 4,
  "nbformat_minor": 0,
  "metadata": {
    "colab": {
      "name": "suicide_decision_tree.ipynb",
      "provenance": [],
      "collapsed_sections": [],
      "authorship_tag": "ABX9TyPI29KR8QFUSXYiQmZVDQz9",
      "include_colab_link": true
    },
    "kernelspec": {
      "name": "python3",
      "display_name": "Python 3"
    }
  },
  "cells": [
    {
      "cell_type": "markdown",
      "metadata": {
        "id": "view-in-github",
        "colab_type": "text"
      },
      "source": [
        "<a href=\"https://colab.research.google.com/github/IndirasM/DataMining/blob/main/suicide_decision_tree.ipynb\" target=\"_parent\"><img src=\"https://colab.research.google.com/assets/colab-badge.svg\" alt=\"Open In Colab\"/></a>"
      ]
    },
    {
      "cell_type": "code",
      "metadata": {
        "id": "8BkT_cqrwQbS"
      },
      "source": [
        "from sklearn.tree import DecisionTreeClassifier\r\n",
        "from sklearn.tree import DecisionTreeRegressor\r\n",
        "from sklearn import datasets\r\n",
        "import pydotplus\r\n",
        "from IPython.display import Image\r\n",
        "from sklearn import tree\r\n",
        "import pandas as pd\r\n"
      ],
      "execution_count": 51,
      "outputs": []
    },
    {
      "cell_type": "code",
      "metadata": {
        "id": "DLtxkj9zwl6u"
      },
      "source": [
        "suicides_data_url = 'https://raw.githubusercontent.com/VitaT/ML-python/main/data/suicides.csv'\r\n",
        "original_data = pd.read_csv(suicides_data_url)"
      ],
      "execution_count": 52,
      "outputs": []
    },
    {
      "cell_type": "code",
      "metadata": {
        "id": "NAJVCPmCw41T"
      },
      "source": [
        "decisiontree = DecisionTreeClassifier(random_state=0)"
      ],
      "execution_count": null,
      "outputs": []
    },
    {
      "cell_type": "code",
      "metadata": {
        "id": "hVh-TDWiR5hi"
      },
      "source": [
        "suicides_data = original_data.drop('ID', axis=1, inplace=False)\r\n",
        "suicides_data.drop('suicides/100k pop', axis=1, inplace=True)\r\n",
        "suicides_data.drop('HDI for year', axis=1, inplace=True)\r\n",
        "suicides_data.drop('generation', axis=1, inplace=True)\r\n",
        "suicides_data.drop('gdp_for_year ($)', axis=1, inplace=True)\r\n",
        "suicides_data.drop('country-year', axis=1, inplace=True)"
      ],
      "execution_count": 56,
      "outputs": []
    },
    {
      "cell_type": "code",
      "metadata": {
        "id": "IdMdfbJOXbs3"
      },
      "source": [
        "suicides_data.sex.replace({'male':1,'female':0}, inplace=True)"
      ],
      "execution_count": 57,
      "outputs": []
    },
    {
      "cell_type": "code",
      "metadata": {
        "id": "WjAxbUF_UzRi"
      },
      "source": [
        "target = suicides_data['age']\r\n",
        "features = suicides_data[['sex', 'suicides_no', 'population', 'gdp_per_capita ($)']]"
      ],
      "execution_count": 58,
      "outputs": []
    },
    {
      "cell_type": "code",
      "metadata": {
        "id": "IZdWS__SWjON"
      },
      "source": [
        "model = decisiontree.fit(features, target)"
      ],
      "execution_count": 59,
      "outputs": []
    },
    {
      "cell_type": "code",
      "metadata": {
        "id": "7UoI2NsVX-Uk"
      },
      "source": [
        "target_names = suicides_data.age.unique()\r\n",
        "feature_names = ['sex', 'suicides_no', 'population', 'gdp_per_capita ($)']"
      ],
      "execution_count": 60,
      "outputs": []
    },
    {
      "cell_type": "markdown",
      "metadata": {
        "id": "Z1lrlZSj7KOb"
      },
      "source": [
        "Test:"
      ]
    },
    {
      "cell_type": "code",
      "metadata": {
        "colab": {
          "base_uri": "https://localhost:8080/"
        },
        "id": "Z4nJC7JhZ0oI",
        "outputId": "732ec7ff-6e38-4cb2-8e3b-3e90e2468831"
      },
      "source": [
        "obs = [['0', '0', '37000', '833']]\r\n",
        "model.predict(obs)"
      ],
      "execution_count": 61,
      "outputs": [
        {
          "output_type": "execute_result",
          "data": {
            "text/plain": [
              "array(['75+ years'], dtype=object)"
            ]
          },
          "metadata": {
            "tags": []
          },
          "execution_count": 61
        }
      ]
    },
    {
      "cell_type": "markdown",
      "metadata": {
        "id": "MDyeVXqI7MGR"
      },
      "source": [
        "Possibly display the tree:"
      ]
    },
    {
      "cell_type": "code",
      "metadata": {
        "id": "WHCWFxdtWpOD"
      },
      "source": [
        "# vis = tree.export_graphviz(decisiontree,\r\n",
        "# out_file=None,\r\n",
        "# feature_names=feature_names,\r\n",
        "# class_names=target_names)"
      ],
      "execution_count": null,
      "outputs": []
    },
    {
      "cell_type": "code",
      "metadata": {
        "id": "QJBFuKC6Yc0r"
      },
      "source": [
        "# graph = pydotplus.graph_from_dot_data(vis)"
      ],
      "execution_count": null,
      "outputs": []
    },
    {
      "cell_type": "code",
      "metadata": {
        "id": "ZDSyZ5zcYi4I"
      },
      "source": [
        "# Image(graph.create_png())"
      ],
      "execution_count": null,
      "outputs": []
    }
  ]
}