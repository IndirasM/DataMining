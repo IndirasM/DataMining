{
  "nbformat": 4,
  "nbformat_minor": 0,
  "metadata": {
    "colab": {
      "name": "suicide_decision_tree.ipynb",
      "provenance": [],
      "collapsed_sections": [],
      "authorship_tag": "ABX9TyOHSjWcLp95/B7DNki5oUSB",
      "include_colab_link": true
    },
    "kernelspec": {
      "name": "python3",
      "display_name": "Python 3"
    }
  },
  "cells": [
    {
      "cell_type": "markdown",
      "metadata": {
        "id": "view-in-github",
        "colab_type": "text"
      },
      "source": [
        "<a href=\"https://colab.research.google.com/github/IndirasM/DataMining/blob/main/suicide_decision_tree.ipynb\" target=\"_parent\"><img src=\"https://colab.research.google.com/assets/colab-badge.svg\" alt=\"Open In Colab\"/></a>"
      ]
    },
    {
      "cell_type": "code",
      "metadata": {
        "id": "8BkT_cqrwQbS"
      },
      "source": [
        "from sklearn.tree import DecisionTreeClassifier\r\n",
        "from sklearn.tree import DecisionTreeRegressor\r\n",
        "from sklearn import datasets\r\n",
        "import pydotplus\r\n",
        "from IPython.display import Image\r\n",
        "from sklearn import tree\r\n",
        "import pandas as pd\r\n"
      ],
      "execution_count": null,
      "outputs": []
    },
    {
      "cell_type": "code",
      "metadata": {
        "id": "DLtxkj9zwl6u",
        "colab": {
          "base_uri": "https://localhost:8080/"
        },
        "outputId": "43ae3145-a85b-409e-fb3f-6b777adab049"
      },
      "source": [
        "suicides_data_url = 'https://raw.githubusercontent.com/VitaT/ML-python/main/data/suicides.csv'\r\n",
        "original_data = pd.read_csv(suicides_data_url)\r\n",
        "\r\n",
        "print(original_data)"
      ],
      "execution_count": null,
      "outputs": [
        {
          "output_type": "stream",
          "text": [
            "          ID     sex  ... gdp_per_capita ($)       generation\n",
            "0          1    male  ...                796     Generation X\n",
            "1          2    male  ...                796           Silent\n",
            "2          3  female  ...                796     Generation X\n",
            "3          4    male  ...                796  G.I. Generation\n",
            "4          5    male  ...                796          Boomers\n",
            "...      ...     ...  ...                ...              ...\n",
            "27815  27816  female  ...               2309     Generation X\n",
            "27816  27817  female  ...               2309           Silent\n",
            "27817  27818    male  ...               2309     Generation Z\n",
            "27818  27819  female  ...               2309     Generation Z\n",
            "27819  27820  female  ...               2309          Boomers\n",
            "\n",
            "[27820 rows x 11 columns]\n"
          ],
          "name": "stdout"
        }
      ]
    },
    {
      "cell_type": "code",
      "metadata": {
        "id": "NAJVCPmCw41T"
      },
      "source": [
        "decisiontree = DecisionTreeClassifier(random_state=0)"
      ],
      "execution_count": null,
      "outputs": []
    },
    {
      "cell_type": "code",
      "metadata": {
        "id": "hVh-TDWiR5hi"
      },
      "source": [
        "suicides_data = original_data.drop('ID', axis=1, inplace=False)\r\n",
        "suicides_data.drop('suicides/100k pop', axis=1, inplace=True)\r\n",
        "suicides_data.drop('HDI for year', axis=1, inplace=True)\r\n",
        "suicides_data.drop('generation', axis=1, inplace=True)"
      ],
      "execution_count": null,
      "outputs": []
    },
    {
      "cell_type": "code",
      "metadata": {
        "id": "IdMdfbJOXbs3"
      },
      "source": [
        "suicides_data.sex.replace({'male':1,'female':0}, inplace=True)"
      ],
      "execution_count": null,
      "outputs": []
    },
    {
      "cell_type": "code",
      "metadata": {
        "id": "WjAxbUF_UzRi"
      },
      "source": [
        "target = suicides_data['age']\r\n",
        "features = suicides_data[['sex', 'suicides_no', 'population', 'gdp_per_capita ($)']]"
      ],
      "execution_count": null,
      "outputs": []
    },
    {
      "cell_type": "code",
      "metadata": {
        "id": "IZdWS__SWjON"
      },
      "source": [
        "model = decisiontree.fit(features, target)"
      ],
      "execution_count": null,
      "outputs": []
    },
    {
      "cell_type": "code",
      "metadata": {
        "id": "7UoI2NsVX-Uk"
      },
      "source": [
        "target_names = suicides_data.age.unique()\r\n",
        "feature_names = ['sex', 'suicides_no', 'population', 'gdp_per_capita ($)']"
      ],
      "execution_count": null,
      "outputs": []
    },
    {
      "cell_type": "code",
      "metadata": {
        "colab": {
          "base_uri": "https://localhost:8080/"
        },
        "id": "Z4nJC7JhZ0oI",
        "outputId": "7c51f384-a455-40bc-f9a6-6924c24d2b6a"
      },
      "source": [
        "obs = [['0', '0', '37000', '833']]\r\n",
        "model.predict(obs)"
      ],
      "execution_count": null,
      "outputs": [
        {
          "output_type": "execute_result",
          "data": {
            "text/plain": [
              "array(['75+ years'], dtype=object)"
            ]
          },
          "metadata": {
            "tags": []
          },
          "execution_count": 49
        }
      ]
    },
    {
      "cell_type": "code",
      "metadata": {
        "id": "WHCWFxdtWpOD"
      },
      "source": [
        "# vis = tree.export_graphviz(decisiontree,\r\n",
        "# out_file=None,\r\n",
        "# feature_names=feature_names,\r\n",
        "# class_names=target_names)"
      ],
      "execution_count": null,
      "outputs": []
    },
    {
      "cell_type": "code",
      "metadata": {
        "id": "QJBFuKC6Yc0r"
      },
      "source": [
        "# graph = pydotplus.graph_from_dot_data(vis)"
      ],
      "execution_count": null,
      "outputs": []
    },
    {
      "cell_type": "code",
      "metadata": {
        "id": "ZDSyZ5zcYi4I"
      },
      "source": [
        "# Image(graph.create_png())"
      ],
      "execution_count": null,
      "outputs": []
    }
  ]
}